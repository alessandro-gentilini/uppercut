{
 "cells": [
  {
   "cell_type": "code",
   "execution_count": 1,
   "metadata": {
    "collapsed": true
   },
   "outputs": [],
   "source": [
    "# http://stackoverflow.com/a/24884342/15485\n",
    "%matplotlib inline"
   ]
  },
  {
   "cell_type": "code",
   "execution_count": 2,
   "metadata": {
    "collapsed": false
   },
   "outputs": [],
   "source": [
    "from scipy.stats import bernoulli\n",
    "import numpy as np\n",
    "OK=0\n",
    "NOK=1"
   ]
  },
  {
   "cell_type": "code",
   "execution_count": 3,
   "metadata": {
    "collapsed": false
   },
   "outputs": [],
   "source": [
    "N=48\n",
    "defect_proportion=1e-4\n",
    "false_defect_proportion=0.1*defect_proportion\n",
    "false_good_proportion=1e-6\n",
    "\n",
    "fdps=np.full(N,false_defect_proportion)\n",
    "fgps=np.full(N,false_good_proportion)\n",
    "ps=np.full(N, defect_proportion)"
   ]
  },
  {
   "cell_type": "code",
   "execution_count": 4,
   "metadata": {
    "collapsed": false
   },
   "outputs": [],
   "source": [
    "def make_widget(N,defect_proportions):\n",
    "    if not all(map(is_a_valid_proportion,defect_proportions)):\n",
    "        raise NameError('defect_proportions should be valid proportions')\n",
    "        \n",
    "    widgets_quality=np.zeros(N)\n",
    "    for i in range(N):\n",
    "        widgets_quality[i]=bernoulli.rvs(defect_proportions[i])\n",
    "    return widgets_quality"
   ]
  },
  {
   "cell_type": "code",
   "execution_count": 5,
   "metadata": {
    "collapsed": true
   },
   "outputs": [],
   "source": [
    "def is_a_valid_proportion(p):\n",
    "    return p>=0 and p<=1"
   ]
  },
  {
   "cell_type": "code",
   "execution_count": 6,
   "metadata": {
    "collapsed": true
   },
   "outputs": [],
   "source": [
    "def classify(true_value,false_defect_proportion,false_good_proportion):\n",
    "    if not is_a_valid_proportion(false_defect_proportion):\n",
    "        raise NameError('false_defect_proportion should be a valid proportion')\n",
    "    if not is_a_valid_proportion(false_good_proportion):\n",
    "        raise NameError('false_good_proportion should be a valid proportion')\n",
    "        \n",
    "    if true_value==OK:\n",
    "        return bernoulli.rvs(false_defect_proportion)\n",
    "    elif true_value==NOK:\n",
    "        return bernoulli.rvs(1-false_good_proportion)\n",
    "    else:\n",
    "        raise NameError('only two classes are supported')"
   ]
  },
  {
   "cell_type": "code",
   "execution_count": 7,
   "metadata": {
    "collapsed": false
   },
   "outputs": [],
   "source": [
    "assert OK==classify(OK,0,0),'test failed'\n",
    "assert NOK==classify(NOK,0,0),'test failed'\n",
    "assert NOK==classify(OK,1,0),'test failed'\n",
    "assert OK==classify(NOK,0,1),'test failed'"
   ]
  },
  {
   "cell_type": "code",
   "execution_count": 8,
   "metadata": {
    "collapsed": false
   },
   "outputs": [],
   "source": [
    "quality=np.zeros(N)\n",
    "for _ in range(48000):\n",
    "    quality+=map(classify,make_widget(N,ps),fdps,fgps)"
   ]
  },
  {
   "cell_type": "code",
   "execution_count": 9,
   "metadata": {
    "collapsed": false
   },
   "outputs": [
    {
     "data": {
      "text/plain": [
       "array([  6.,   6.,   6.,   8.,   4.,   6.,   3.,   8.,   3.,   3.,   3.,\n",
       "         3.,   7.,   5.,   7.,   6.,   8.,   1.,   7.,   6.,   4.,  10.,\n",
       "         2.,   3.,   6.,   3.,   6.,   8.,   2.,   9.,   5.,   2.,   1.,\n",
       "         0.,   4.,   3.,   5.,   4.,   5.,   8.,   2.,   4.,   6.,   5.,\n",
       "         3.,   6.,   4.,   6.])"
      ]
     },
     "execution_count": 9,
     "metadata": {},
     "output_type": "execute_result"
    }
   ],
   "source": [
    "quality\n"
   ]
  },
  {
   "cell_type": "code",
   "execution_count": 10,
   "metadata": {
    "collapsed": false
   },
   "outputs": [
    {
     "data": {
      "image/png": "[encoded data removed]",
      "text/plain": [
       "<matplotlib.figure.Figure at 0x7fee9969c410>"
      ]
     },
     "metadata": {},
     "output_type": "display_data"
    }
   ],
   "source": [
    "import matplotlib.pyplot as plt\n",
    "plt.bar(np.arange(N),quality)\n",
    "plt.show()"
   ]
  },
  {
   "cell_type": "code",
   "execution_count": null,
   "metadata": {
    "collapsed": true
   },
   "outputs": [],
   "source": []
  }
 ],
 "metadata": {
  "kernelspec": {
   "display_name": "Python 2",
   "language": "python",
   "name": "python2"
  },
  "language_info": {
   "codemirror_mode": {
    "name": "ipython",
    "version": 2
   },
   "file_extension": ".py",
   "mimetype": "text/x-python",
   "name": "python",
   "nbconvert_exporter": "python",
   "pygments_lexer": "ipython2",
   "version": "2.7.11"
  }
 },
 "nbformat": 4,
 "nbformat_minor": 0
}
